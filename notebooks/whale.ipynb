{
 "cells": [
  {
   "cell_type": "code",
   "execution_count": null,
   "metadata": {},
   "outputs": [],
   "source": [
    "import sys\n",
    "if '../' not in sys.path:\n",
    "    sys.path.append('../')"
   ]
  },
  {
   "cell_type": "code",
   "execution_count": null,
   "metadata": {},
   "outputs": [],
   "source": [
    "import random\n",
    "import numpy as np\n",
    "import pandas as pd\n",
    "import plotly.express as px\n",
    "import plotly.graph_objects as go\n",
    "\n",
    "from simulab.simulation.core.runner import Runner\n",
    "from simulab.simulation.core.lattice import Lattice\n",
    "from simulab.simulation.core.neighborhood import ExpandedMoore\n",
    "from simulab.simulation.core.experiment import ExperimentParametersSet\n",
    "from simulab.simulation.core.equilibrium_criterion import WithoutCriterion\n",
    "\n",
    "from src.market import Market, Producer, Consumer\n",
    "\n",
    "from simulab.simulation.plotters.final_grid import FinalGridSeries\n",
    "from simulab.simulation.plotters.numerical_series import NumericalSeries\n",
    "from simulab.simulation.plotters.categorical_animated_lattice import (\n",
    "    CategoricalAnimatedLatticeSeries,\n",
    ")\n",
    "\n",
    "random.seed(1000)\n",
    "np.random.seed(1000)"
   ]
  },
  {
   "cell_type": "code",
   "execution_count": null,
   "metadata": {},
   "outputs": [],
   "source": [
    "# Parámetros\n",
    "\n",
    "length = 20\n",
    "capital = 1_000\n",
    "stock = 5_000_000_000\n",
    "producer_probability = 0.25\n",
    "profit_period = 7\n",
    "price_ratio = (1.2, 1.5)\n",
    "fixed_cost = (10, 1)\n",
    "marginal_cost = (10, 1)\n",
    "quantity_to_buy = (1, 0)\n",
    "criterion = WithoutCriterion()"
   ]
  },
  {
   "cell_type": "code",
   "execution_count": null,
   "metadata": {},
   "outputs": [],
   "source": [
    "# Funciones auxiliares\n",
    "\n",
    "def create_configuration():\n",
    "    configuration = Lattice.with_probability(producer_probability, length)\n",
    "\n",
    "    for i in range(length):\n",
    "        for j in range(length):\n",
    "            agent_type = configuration.at(i, j)\n",
    "            if agent_type == Consumer.TYPE:\n",
    "                agent = Consumer()\n",
    "            else:\n",
    "                _marginal_cost = abs(np.random.normal(*marginal_cost))\n",
    "                _price_ratio = np.random.uniform(*price_ratio)\n",
    "                agent = Producer(\n",
    "                    capital=capital,\n",
    "                    stock=stock,\n",
    "                    price=_marginal_cost * _price_ratio,\n",
    "                    fixed_cost=abs(np.random.normal(*fixed_cost)),\n",
    "                    marginal_cost=_marginal_cost,\n",
    "                    profit_period=profit_period,\n",
    "                )\n",
    "            configuration.set(i, j, _with=agent)\n",
    "    return configuration\n",
    "\n",
    "def add_whale_to(configuration, position):\n",
    "    configuration.set(position[0], position[1], _with=Producer(\n",
    "        capital=capital*5,\n",
    "        stock=stock,\n",
    "        price=3,\n",
    "        fixed_cost=2,\n",
    "        marginal_cost=2,\n",
    "        profit_period=profit_period))\n",
    "\n",
    "def parameters_with(configuration, bankrupt_enabled=False):\n",
    "    return ExperimentParametersSet(\n",
    "        length=[length],\n",
    "        neighborhood=[ExpandedMoore(3)],\n",
    "        agent_types=[2],\n",
    "        capital=[capital],\n",
    "        producer_probability=[producer_probability],\n",
    "        profit_period=[profit_period],\n",
    "        price_ratio=[price_ratio],\n",
    "        fixed_cost=[fixed_cost],\n",
    "        marginal_cost=[marginal_cost],\n",
    "        quantity_to_buy=[quantity_to_buy],\n",
    "        bankrupt_enabled=[bankrupt_enabled],\n",
    "        configuration=[configuration],\n",
    "    )\n",
    "\n",
    "def bankrupted_on(runner):\n",
    "    producer_positions = set(runner.experiments[0]._by_type[1])\n",
    "    return [runner.experiments[0].configuration.at(*position).capital <= 0\n",
    "            for position in producer_positions]\n",
    "\n",
    "def execute_with(configuration, data, strategy_name, max_steps=1000, bankrupt_enabled=False):\n",
    "    params = parameters_with(configuration, bankrupt_enabled=bankrupt_enabled)\n",
    "    runner = Runner(Market, params, criterion, max_steps=max_steps)\n",
    "    runner.start()\n",
    "    producer_positions = set(runner.experiments[0]._by_type[1])\n",
    "    producers_amount = len(producer_positions)\n",
    "    current_bankrupted = bankrupted_on(runner).count(True)\n",
    "    data[\"Capital\"] = data[\"Capital\"] + [\"sin capital\", \"con capital\"]\n",
    "    data[\"Cantidad\"] = data[\"Cantidad\"] + [current_bankrupted, producers_amount-current_bankrupted]\n",
    "    data[\"Estrategia\"] = data[\"Estrategia\"] + ([strategy_name] * 2)\n",
    "    return producer_positions, runner"
   ]
  },
  {
   "cell_type": "code",
   "execution_count": null,
   "metadata": {},
   "outputs": [],
   "source": [
    "configuration = create_configuration()\n",
    "experiment_parameters_set = ExperimentParametersSet(\n",
    "    length=[length],\n",
    "    neighborhood=[ExpandedMoore(3)],\n",
    "    agent_types=[2],\n",
    "    capital=[capital],\n",
    "    producer_probability=[producer_probability],\n",
    "    profit_period=[profit_period],\n",
    "    price_ratio=[price_ratio],\n",
    "    fixed_cost=[fixed_cost],\n",
    "    marginal_cost=[marginal_cost],\n",
    "    quantity_to_buy=[quantity_to_buy],\n",
    "    bankrupt_enabled=[False, True],\n",
    "    configuration=[configuration],\n",
    ")\n",
    "runner0 = Runner(Market, experiment_parameters_set, criterion, max_steps=1500)\n",
    "runner0.start()"
   ]
  },
  {
   "cell_type": "code",
   "execution_count": null,
   "metadata": {},
   "outputs": [],
   "source": [
    "FinalGridSeries.show_up(\n",
    "    \"price_lattice\", \n",
    "    runner=runner0,\n",
    "    plot_title=\"Evolución de los precios de Mercado\",\n",
    "    leyend=\"Precio\",\n",
    "    colorscale=\"Viridis\",\n",
    ")"
   ]
  },
  {
   "cell_type": "code",
   "execution_count": null,
   "metadata": {},
   "outputs": [],
   "source": [
    "for experiment_id in [0, 1]:\n",
    "    CategoricalAnimatedLatticeSeries.show_up(\n",
    "        \"profit_categorized_lattice\",\n",
    "        runner=runner0,\n",
    "        experiment_id=experiment_id,\n",
    "        plot_title=f\"Evolución de la ganancia de los productores (Experimento nº{experiment_id})\",\n",
    "        height=500,\n",
    "    )"
   ]
  },
  {
   "cell_type": "code",
   "execution_count": null,
   "metadata": {},
   "outputs": [],
   "source": [
    "for experiment_id in [0, 1]:\n",
    "    CategoricalAnimatedLatticeSeries.show_up(\n",
    "        \"capital_categorized_lattice\",\n",
    "        runner=runner0,\n",
    "        experiment_id=experiment_id,\n",
    "        plot_title=f\"Evolución del capital de los productores (Experimento nº{experiment_id})\",\n",
    "        height=500,\n",
    "    )"
   ]
  },
  {
   "cell_type": "code",
   "execution_count": null,
   "metadata": {},
   "outputs": [],
   "source": [
    "# config = runner0.experiments[0].configuration\n",
    "# add_whale_to(config,)"
   ]
  },
  {
   "cell_type": "code",
   "execution_count": null,
   "metadata": {},
   "outputs": [],
   "source": [
    "repetitions = 10\n",
    "max_steps = 1500\n",
    "\n",
    "data = {}\n",
    "data[\"Capital\"] = [] \n",
    "data[\"Cantidad\"] = []\n",
    "data[\"Estrategia\"] = []\n",
    "\n",
    "for _ in range(repetitions):\n",
    "    configuration = create_configuration()\n",
    "\n",
    "    positions, runner1 = execute_with(configuration, data, \"sin bancarrota\", max_steps=max_steps, bankrupt_enabled=False)\n",
    "    positions, runner2 = execute_with(configuration, data, \"con bancarrota\", max_steps=max_steps, bankrupt_enabled=True)\n",
    "    positions = iter(positions)\n",
    "    add_whale_to(configuration, next(positions))\n",
    "    add_whale_to(configuration, next(positions))\n",
    "    positions, runner3 = execute_with(configuration, data, \"bancarrota + ballena\", max_steps=max_steps, bankrupt_enabled=True)"
   ]
  },
  {
   "cell_type": "code",
   "execution_count": null,
   "metadata": {},
   "outputs": [],
   "source": [
    "data = pd.DataFrame(pd.DataFrame(data), columns=[\"Capital\", \"Cantidad\", \"Estrategia\"])\n",
    "fig = px.bar(data, x=\"Estrategia\", y=\"Cantidad\", color=\"Capital\", title=\"Cantidad de productores según su capital y estrategia de simulación\")\n",
    "fig.show()"
   ]
  }
 ],
 "metadata": {
  "kernelspec": {
   "display_name": "tp_final",
   "language": "python",
   "name": "python3"
  },
  "language_info": {
   "codemirror_mode": {
    "name": "ipython",
    "version": 3
   },
   "file_extension": ".py",
   "mimetype": "text/x-python",
   "name": "python",
   "nbconvert_exporter": "python",
   "pygments_lexer": "ipython3",
   "version": "3.10.12"
  },
  "orig_nbformat": 4
 },
 "nbformat": 4,
 "nbformat_minor": 2
}
