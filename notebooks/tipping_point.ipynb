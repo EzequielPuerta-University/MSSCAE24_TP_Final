{
 "cells": [
  {
   "cell_type": "markdown",
   "metadata": {},
   "source": [
    "# Trabajo Práctico Final - MSSCAE 2024 - Grupo 5"
   ]
  },
  {
   "cell_type": "markdown",
   "metadata": {},
   "source": [
    "---\n",
    "## ***\"Dinámica de formación de precios como fenómeno emergente de la interacción entre agentes económicos\"***"
   ]
  },
  {
   "cell_type": "markdown",
   "metadata": {},
   "source": [
    "#### Integrantes:\n",
    "* Cubino, Santiago\n",
    "* Demare, Matías\n",
    "* Puerta, Ezequiel"
   ]
  },
  {
   "cell_type": "markdown",
   "metadata": {},
   "source": [
    "---\n",
    "## Suposiciones del modelo\n",
    "* Mercado de un único producto.\n",
    "* Compuesto por agentes *Productores* y *Consumidores*.\n",
    "* Dispuestos al azar en una grilla cuadrada (Autómata Celular).\n",
    "* Topología de toroide.\n",
    "* Los agentes interactúan entre sí para comprar y vender el producto.\n",
    "* Los agentes interactúan según un vecindario de Moore \"extendido\".\n",
    "* El precio del producto se establece como resultado de dichas interacciones.\n",
    "* El sistema evoluciona a pasos discretos.\n",
    "* En principio, todos los agentes pueden interactuar en cada iteración.\n",
    "\n",
    "## Suposiciones de los Productores\n",
    "Comienzan con:\n",
    "* Un determinado capital.\n",
    "* Un stock (no se utilizó por el momento, es virtualmente infinito).\n",
    "* Un costo fijo de operaciones.\n",
    "* Un costo marginal por unidad de producto.\n",
    "* Un período esperado para analizar la ganancia obtenida.\n",
    "* Un precio inicial (por encima del costo marginal según un *ratio* parametrizado).\n",
    "* Los Productores pueden endeudarse y permitir que su capital sea negativo (bancarrota).\n",
    "* Si se desea, el modelo permite eliminar a los Productores en bancarrota.\n",
    "* En cada iteración el Productor chequea si se ha cumplido el período de ganancia y de ser así, calcula la ganancia obtenida (positiva o negativa) según las ventas del período.\n",
    "* El rendimiento obtenido en el período impacta directamente en el capital.\n",
    "\n",
    "## Suposiciones de la formula de ganancia\n",
    "* La mayoría de los supuestos del Productor sirven para construir la fórmula de ganancia.\n",
    "* Inicialmente, de manera aleatoria el Productor comienza con una dirección para modificar el precio. Si la ganancia incrementa respecto a la iteración anterior, mantiene la dirección. Caso contrario, la invierte (de aumentar pasa a disminuir el precio, o viceversa).\n",
    "* Las variaciones del precio son un porcentaje fijo del precio para todos los Productores.\n",
    "\n",
    "## Suposiciones de los Consumidores\n",
    "* Deben consumir si o sí en cada iteración.\n",
    "* No están limitados por capital.\n",
    "* Compran al Productor que oferte al menor precio del vecindario."
   ]
  },
  {
   "cell_type": "code",
   "execution_count": null,
   "metadata": {},
   "outputs": [],
   "source": [
    "# Vecindario de Moore Extendido n=3\n",
    "import plotly.graph_objects as go\n",
    "import numpy as np\n",
    "\n",
    "size = 11\n",
    "matrix = np.zeros((size, size))\n",
    "center = size // 2\n",
    "\n",
    "for i in range(size):\n",
    "    for j in range(size):\n",
    "        distance = max(abs(i - center), abs(j - center))\n",
    "        if distance == 0:\n",
    "            matrix[i, j] = 1    # Center (red)\n",
    "        elif distance <= 3:\n",
    "            matrix[i, j] = 0.4  # Next 3 rings (light blue)\n",
    "        else:\n",
    "            matrix[i, j] = 0.2  # Rest (light green)\n",
    "\n",
    "producer_positions = [(3, 3), (7, 7), (1, 9), (9, 1)]\n",
    "for i, j in producer_positions[:2]:\n",
    "    matrix[i, j] = 0.6  # Soft purple producers inside rings\n",
    "for i, j in producer_positions[2:]:\n",
    "    matrix[i, j] = 0  # Dark gray producers outside rings\n",
    "\n",
    "customdata_matrix = np.full((size, size), \"\")\n",
    "text_matrix = np.full((size, size), \"Vecindario\")\n",
    "text_matrix[center, center] = \"Consumidor\"\n",
    "for i, j in producer_positions[:2]:\n",
    "    text_matrix[i, j] = \"Productores\"\n",
    "    customdata_matrix[i, j] = (i*2)+j\n",
    "for i, j in producer_positions[2:]:\n",
    "    text_matrix[i, j] = \"Productores inalcanzables\"\n",
    "for i in range(size):\n",
    "    for j in range(size):\n",
    "        if max(abs(i - center), abs(j - center)) > 3:\n",
    "            text_matrix[i, j] = \"\"\n",
    "\n",
    "fig = go.Figure(data=go.Heatmap(\n",
    "    z=matrix,\n",
    "    text=text_matrix,\n",
    "    customdata=customdata_matrix,\n",
    "    hovertemplate='%{text}<br>Precio: %{customdata}<extra></extra>',\n",
    "    colorscale=[\n",
    "        [0, 'rgb(64, 64, 64)'],     # Dark gray\n",
    "        [0.2, 'rgb(200, 255, 200)'],  # Light green\n",
    "        [0.4, 'rgb(173, 216, 230)'],  # Light blue\n",
    "        [0.6, 'rgb(180, 120, 220)'],  # Soft purple\n",
    "        [1, 'rgb(255, 99, 71)']     # Tomato red\n",
    "    ],\n",
    "    showscale=False,\n",
    "))\n",
    "\n",
    "fig.update_layout(\n",
    "    width=700,\n",
    "    height=550,\n",
    "    title=\"Vecindario de Moore Extendido n=3\",\n",
    "    xaxis=dict(\n",
    "        scaleanchor=\"y\",\n",
    "        scaleratio=1,\n",
    "        showgrid=False,\n",
    "        showticklabels=False,\n",
    "        zeroline=False,\n",
    "        range=[-0.5, size-0.5]\n",
    "    ),\n",
    "    yaxis=dict(\n",
    "        showgrid=False,\n",
    "        showticklabels=False,\n",
    "        zeroline=False,\n",
    "        range=[-0.5, size-0.5]\n",
    "    ),\n",
    "    plot_bgcolor='rgba(0,0,0,0)',\n",
    ")\n",
    "\n",
    "for i in range(size + 1):\n",
    "    fig.add_shape(\n",
    "        type=\"line\",\n",
    "        x0=-0.5, y0=i-0.5, x1=size-0.5, y1=i-0.5,\n",
    "        line=dict(color=\"black\", width=1),\n",
    "    )\n",
    "    fig.add_shape(\n",
    "        type=\"line\",\n",
    "        x0=i-0.5, y0=-0.5, x1=i-0.5, y1=size-0.5,\n",
    "        line=dict(color=\"black\", width=1),\n",
    "    )\n",
    "\n",
    "legend_colors = ['rgb(255, 99, 71)', 'rgb(173, 216, 230)', 'rgb(180, 120, 220)', 'rgb(64, 64, 64)']\n",
    "legend_labels = ['Consumidor', 'Vecindario', 'Productores', 'Productores inalcanzables']\n",
    "\n",
    "for i, (color, label) in enumerate(zip(legend_colors, legend_labels)):\n",
    "    fig.add_trace(go.Scatter(\n",
    "        x=[None],\n",
    "        y=[None],\n",
    "        mode='markers',\n",
    "        marker=dict(size=10, color=color),\n",
    "        showlegend=True,\n",
    "        name=label\n",
    "    ))\n",
    "\n",
    "fig.update_layout(\n",
    "    legend=dict(\n",
    "        yanchor=\"top\",\n",
    "        y=0.99,\n",
    "        xanchor=\"left\",\n",
    "        x=1.05\n",
    "    )\n",
    ")\n",
    "fig.show()"
   ]
  },
  {
   "cell_type": "markdown",
   "metadata": {},
   "source": [
    "---\n",
    "## Análisis"
   ]
  },
  {
   "cell_type": "markdown",
   "metadata": {},
   "source": [
    "### Inicialización"
   ]
  },
  {
   "cell_type": "code",
   "execution_count": null,
   "metadata": {},
   "outputs": [],
   "source": [
    "import sys\n",
    "if '../' not in sys.path:\n",
    "    sys.path.append('../')"
   ]
  },
  {
   "cell_type": "code",
   "execution_count": null,
   "metadata": {},
   "outputs": [],
   "source": [
    "import numpy as np\n",
    "import pandas as pd\n",
    "import plotly.express as px\n",
    "import plotly.graph_objects as go\n",
    "from plotly.subplots import make_subplots\n",
    "\n",
    "from simulab.simulation.core.runner import Runner\n",
    "from simulab.simulation.core.neighborhood import ExpandedMoore\n",
    "from simulab.simulation.core.experiment import ExperimentParametersSet\n",
    "from simulab.simulation.core.equilibrium_criterion import WithoutCriterion\n",
    "\n",
    "from src.market import Market\n",
    "\n",
    "from simulab.simulation.plotters.final_grid import FinalGridSeries\n",
    "from simulab.simulation.plotters.numerical_series import NumericalSeries\n",
    "from simulab.simulation.plotters.categorical_animated_lattice import (\n",
    "    CategoricalAnimatedLatticeSeries,\n",
    ")"
   ]
  },
  {
   "cell_type": "markdown",
   "metadata": {},
   "source": [
    "### ABC"
   ]
  },
  {
   "cell_type": "markdown",
   "metadata": {},
   "source": [
    "Vamos a simular el modelo barriendo dos parámetros, el capital y la cantidad de productores en la grilla (mediante la probabilidad de aparición)."
   ]
  },
  {
   "cell_type": "code",
   "execution_count": null,
   "metadata": {},
   "outputs": [],
   "source": [
    "experiment_parameters_set = ExperimentParametersSet(\n",
    "    length=[10],\n",
    "    neighborhood=[ExpandedMoore(3)],\n",
    "    agent_types=[2],\n",
    "    capital=[2500, 100000],\n",
    "    producer_probability=[0.05, 0.10, 0.50],\n",
    "    profit_period=[7],\n",
    "    price_ratio=[(1.2, 1.5)],\n",
    "    fixed_cost=[(10, 1)],\n",
    "    marginal_cost=[(10, 1)],\n",
    "    quantity_to_buy=[(1, 0)],\n",
    "    bankrupt_enabled=[False],\n",
    ")\n",
    "criterion = WithoutCriterion()\n",
    "runner = Runner(Market, experiment_parameters_set, criterion, max_steps=500)"
   ]
  },
  {
   "cell_type": "code",
   "execution_count": null,
   "metadata": {},
   "outputs": [],
   "source": [
    "runner.start()"
   ]
  },
  {
   "cell_type": "code",
   "execution_count": null,
   "metadata": {},
   "outputs": [],
   "source": [
    "FinalGridSeries.show_up(\n",
    "    \"price_lattice\", \n",
    "    runner=runner,\n",
    "    plot_title=(\"Evolución de Precios de Mercado\"),\n",
    "    leyend=\"Precio\",\n",
    "    colorscale=\"Viridis\",\n",
    ")"
   ]
  },
  {
   "cell_type": "markdown",
   "metadata": {},
   "source": [
    "Quizas acá se pueden hacer distintos barridos para mostrar los distintos parámetros, y eventualmente quizas llegar a laconclusion que el parámetro mas fuerte es el de porcentaje de productores.\n",
    "\n",
    "Tambien se podrian graficar algunos productores aislados para ver sus variaciones de precio como curva\n",
    "\n",
    "Tambien estaria bueno ver que tan esparsa es la grilla.. un grafo bipartito? para analizar"
   ]
  },
  {
   "cell_type": "markdown",
   "metadata": {},
   "source": [
    "Pareciera que hay una especie de punto de quiebre alrededor del 12-15% de probabilidad de productores... valores por debajo elevan el precio de manera global, mientras que valores por encima hacen que el precio se estabilice. Parece un comportamiento monopólico, al haber pocos productores, los consumidores (que deben consumir si o sí, buscando el menor precio posible en su vecindario) están obligados a elegir entre pocos productores, que logran mayores ventas que en un escenario con alta competencia. De esta manera pueden subir los precios indiscriminadamente.\n",
    "\n",
    "Seria interesante realizar muchas simulaciones con el mismo barrido, medir la dispersion de precios y contabilizar la cantidad de veces que esta dispersion es muy amplia, con el fin de corroborar que en los valores bajos de probabilidad de productores se alcanza el monopolio."
   ]
  },
  {
   "cell_type": "code",
   "execution_count": null,
   "metadata": {},
   "outputs": [],
   "source": [
    "criterion2 = WithoutCriterion()\n",
    "prices, probabilities = [], []\n",
    "_probabilities = [value/100 for value in range(3, 25)]\n",
    "repetitions = 30\n",
    "length = 10\n",
    "\n",
    "for probability in _probabilities:\n",
    "    for _ in range(repetitions):\n",
    "        experiment_parameters_set2 = ExperimentParametersSet(\n",
    "            length=[length],\n",
    "            neighborhood=[ExpandedMoore(3)],\n",
    "            agent_types=[2],\n",
    "            capital=[5000],\n",
    "            producer_probability=[probability],\n",
    "            profit_period=[7],\n",
    "            price_ratio=[(1.2, 1.5)],\n",
    "            fixed_cost=[(10, 1)],\n",
    "            marginal_cost=[(10, 1)],\n",
    "            quantity_to_buy=[(1, 0)],\n",
    "            bankrupt_enabled=[False],\n",
    "        )\n",
    "        runner2 = Runner(Market, experiment_parameters_set2, criterion2, max_steps=500)\n",
    "        runner2.start()\n",
    "        final_prices = sum(runner2.experiments[0].series[\"price_lattice\"][-1], [])\n",
    "        \n",
    "        prices = prices + final_prices\n",
    "        probabilities = probabilities + ([probability] * length**2)\n",
    "\n",
    "prices_dataframe = pd.DataFrame({\"price\": prices, \"probability\": probabilities})"
   ]
  },
  {
   "cell_type": "markdown",
   "metadata": {},
   "source": [
    "Grafiquemos los resultados como histogramas"
   ]
  },
  {
   "cell_type": "code",
   "execution_count": null,
   "metadata": {},
   "outputs": [],
   "source": [
    "n_subplots = len(_probabilities)\n",
    "fig = make_subplots(rows=n_subplots, cols=1, \n",
    "                    subplot_titles=[f'Probability: {prob}' for prob in _probabilities],\n",
    "                    shared_xaxes=True,\n",
    "                    vertical_spacing=0.02)\n",
    "\n",
    "for i, prob in enumerate(_probabilities, 1):\n",
    "    subset = prices_dataframe[prices_dataframe['probability'] == prob]\n",
    "    fig.add_trace(\n",
    "        go.Histogram(x=subset['price'], name=f'Prob {prob}'),\n",
    "        row=i, col=1)\n",
    "\n",
    "x_range = [prices_dataframe['price'].min(), prices_dataframe['price'].max()]\n",
    "\n",
    "for i in range(1, n_subplots + 1):\n",
    "    fig.update_xaxes(\n",
    "        range=x_range, \n",
    "        row=i, \n",
    "        col=1,\n",
    "        title_text=\"Price\" if i == n_subplots else \"\",  # Only add \"Price\" label to the bottom subplot\n",
    "        showticklabels=True,\n",
    "        ticks=\"outside\",\n",
    "        ticklen=5,\n",
    "        tickwidth=1,\n",
    "        tickcolor='black',\n",
    "        tickfont=dict(size=10))\n",
    "\n",
    "fig.update_layout(\n",
    "    height=250 * n_subplots,\n",
    "    width=800, \n",
    "    title_text=\"Histogramas de precio por probabilidad de ocurrencia de los Productores\",\n",
    "    showlegend=False,\n",
    "    margin=dict(t=100, b=50, l=50, r=50))\n",
    "fig.show()"
   ]
  },
  {
   "cell_type": "code",
   "execution_count": null,
   "metadata": {},
   "outputs": [],
   "source": [
    "fig = px.box(prices_dataframe, x=\"probability\", y=\"price\")\n",
    "fig.show()"
   ]
  },
  {
   "cell_type": "code",
   "execution_count": null,
   "metadata": {},
   "outputs": [],
   "source": [
    "NumericalSeries.show_up(\n",
    "    \"average_producer_price\",\n",
    "    runner=runner,\n",
    "    plot_title=\"Precio promedio entre productores\",\n",
    "    yaxis_title=\"Precio promedio\",\n",
    ")"
   ]
  },
  {
   "cell_type": "markdown",
   "metadata": {},
   "source": [
    "---\n",
    "## Trabajo futuro"
   ]
  },
  {
   "cell_type": "markdown",
   "metadata": {},
   "source": [
    "#### Stock\n",
    "* Los Productores actualmente poseen un atributo *stock* que decrementamos con las ventas pero que no estamos incrementando de ningún modo. Dado que el modelo permite que un Productor se endeude y siga vendiendo aún teniendo capital negativo (a menos que se active el *flag* de *\"bancarrota\"*), podría ser interesante que el Productor decida en que momentos permitir pérdidas o no, cuando invertir capital para recuperar stock, etc.\n",
    "\n",
    "#### Topología\n",
    "* Actualmente estamos usando una grilla única para ambos tipos de agentes, lo que nos llevó a utilizar el vecindario de Moore Extendido y tomar varias decisiones que no teníamos originalmente (Consumidores que quedan aislados sin poder acceder a Productor alguno, Productores que poseen distintas cantidades de Consumidores, etc). Esto se podría homogeneizar con una topología distinta, un modelo de doble grilla, una para cada tipo de agente, y que los mismos puedan interactuar con los 8 de enfrente (Moore clásico)."
   ]
  },
  {
   "cell_type": "markdown",
   "metadata": {},
   "source": [
    "---\n",
    "##"
   ]
  }
 ],
 "metadata": {
  "kernelspec": {
   "display_name": "tp_final",
   "language": "python",
   "name": "python3"
  },
  "language_info": {
   "codemirror_mode": {
    "name": "ipython",
    "version": 3
   },
   "file_extension": ".py",
   "mimetype": "text/x-python",
   "name": "python",
   "nbconvert_exporter": "python",
   "pygments_lexer": "ipython3",
   "version": "3.10.12"
  },
  "orig_nbformat": 4
 },
 "nbformat": 4,
 "nbformat_minor": 2
}
