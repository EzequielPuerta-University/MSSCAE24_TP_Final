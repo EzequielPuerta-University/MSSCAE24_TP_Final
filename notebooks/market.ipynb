{
 "cells": [
  {
   "cell_type": "code",
   "execution_count": null,
   "metadata": {},
   "outputs": [],
   "source": [
    "import sys\n",
    "if '../' not in sys.path:\n",
    "    sys.path.append('../')"
   ]
  },
  {
   "cell_type": "code",
   "execution_count": null,
   "metadata": {},
   "outputs": [],
   "source": [
    "from simulab.simulation.core.runner import Runner, Execute\n",
    "from simulab.simulation.core.neighborhood import Moore\n",
    "from simulab.simulation.core.experiment import ExperimentParametersSet\n",
    "from simulab.simulation.core.equilibrium_criterion import WithoutCriterion\n",
    "\n",
    "from src.market import Market\n",
    "\n",
    "from simulab.simulation.plotters.final_grid import FinalGridSeries\n",
    "from simulab.simulation.plotters.numerical_series import NumericalSeries\n",
    "from simulab.simulation.plotters.animated_lattice import AnimatedLatticeSeries"
   ]
  },
  {
   "cell_type": "code",
   "execution_count": null,
   "metadata": {},
   "outputs": [],
   "source": [
    "experiment_parameters_set = ExperimentParametersSet(\n",
    "    length=[50],\n",
    "    neighborhood=[Moore],\n",
    "    agent_types=[2],\n",
    "    capital=[500, 1000, 2500, 5000, 10000, 100000, 1000000],\n",
    "    producer_probability=[0.70],\n",
    ")\n",
    "criterion = WithoutCriterion()\n",
    "runner = Runner(Market, experiment_parameters_set, criterion, max_steps=1000)"
   ]
  },
  {
   "cell_type": "code",
   "execution_count": null,
   "metadata": {},
   "outputs": [],
   "source": [
    "runner.start()"
   ]
  },
  {
   "cell_type": "code",
   "execution_count": null,
   "metadata": {},
   "outputs": [],
   "source": [
    "FinalGridSeries.show_up(\n",
    "    \"agent_types_lattice\", \n",
    "    runner=runner,\n",
    "    plot_title=(\"Evolución de modelos de Mercado\"),\n",
    "    leyend=\"Tipos de Agentes\",\n",
    ")"
   ]
  },
  {
   "cell_type": "code",
   "execution_count": null,
   "metadata": {},
   "outputs": [],
   "source": [
    "AnimatedLatticeSeries.show_up(\n",
    "    \"agent_types_lattice\",\n",
    "    runner=runner,\n",
    "    experiment_id=0,\n",
    "    plot_title=\"Tipos de agentes de Mercado\",\n",
    "    height=500,\n",
    ")"
   ]
  },
  {
   "cell_type": "code",
   "execution_count": null,
   "metadata": {},
   "outputs": [],
   "source": [
    "AnimatedLatticeSeries.show_up(\n",
    "    \"price_lattice\",\n",
    "    runner=runner,\n",
    "    experiment_id=0,\n",
    "    plot_title=\"Evolución del precio en modelo de Mercado\",\n",
    "    height=500,\n",
    ")"
   ]
  },
  {
   "cell_type": "code",
   "execution_count": null,
   "metadata": {},
   "outputs": [],
   "source": [
    "NumericalSeries.show_up(\n",
    "    \"average_price\",\n",
    "    runner=runner,\n",
    "    plot_title=\"Precio promedio entre productores y consumidores\",\n",
    "    yaxis_title=\"Precio promedio\",\n",
    ")"
   ]
  },
  {
   "cell_type": "code",
   "execution_count": null,
   "metadata": {},
   "outputs": [],
   "source": [
    "NumericalSeries.show_up(\n",
    "    \"average_price\",\n",
    "    runner=runner,\n",
    "    plot_title=\"Precio promedio entre productores y consumidores\",\n",
    "    yaxis_title=\"Precio promedio\",\n",
    ")"
   ]
  },
  {
   "cell_type": "code",
   "execution_count": null,
   "metadata": {},
   "outputs": [],
   "source": [
    "NumericalSeries.show_up(\n",
    "    \"average_consumer_price\",\n",
    "    runner=runner,\n",
    "    plot_title=\"Precio promedio entre consumidores\",\n",
    "    yaxis_title=\"Precio promedio\",\n",
    ")"
   ]
  },
  {
   "cell_type": "code",
   "execution_count": null,
   "metadata": {},
   "outputs": [],
   "source": [
    "NumericalSeries.show_up(\n",
    "    \"average_producer_price\",\n",
    "    runner=runner,\n",
    "    plot_title=\"Precio promedio entre productores\",\n",
    "    yaxis_title=\"Precio promedio\",\n",
    ")"
   ]
  }
 ],
 "metadata": {
  "kernelspec": {
   "display_name": "modelling_and_simulation",
   "language": "python",
   "name": "python3"
  },
  "language_info": {
   "codemirror_mode": {
    "name": "ipython",
    "version": 3
   },
   "file_extension": ".py",
   "mimetype": "text/x-python",
   "name": "python",
   "nbconvert_exporter": "python",
   "pygments_lexer": "ipython3",
   "version": "3.10.12"
  },
  "orig_nbformat": 4
 },
 "nbformat": 4,
 "nbformat_minor": 2
}
