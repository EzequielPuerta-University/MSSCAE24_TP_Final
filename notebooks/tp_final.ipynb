{
 "cells": [
  {
   "cell_type": "markdown",
   "metadata": {},
   "source": [
    "# Trabajo Práctico Final - MSSCAE 2024 - Grupo 5"
   ]
  },
  {
   "cell_type": "markdown",
   "metadata": {},
   "source": [
    "---\n",
    "## ***\"Dinámica de precios a partir de la interacción entre agentes económicos\"***"
   ]
  },
  {
   "cell_type": "markdown",
   "metadata": {},
   "source": [
    "#### Integrantes:\n",
    "* Cubino, Santiago\n",
    "* Demare, Matías\n",
    "* Puerta, Ezequiel"
   ]
  },
  {
   "cell_type": "markdown",
   "metadata": {},
   "source": [
    "---\n",
    "## Definición del sistema a estudiar"
   ]
  },
  {
   "cell_type": "markdown",
   "metadata": {},
   "source": [
    "Un mercado con consumidores y productores de un mismo producto, donde los precios son definidos por cada productor individualmente, y los consumidores buscan siempre el menor precio en su vecindario (ver el próximo inciso: \"Visión del consumidor\").\n",
    "\n",
    "Cada productor tiene asignado un costo fijo (renta) y un costo marginal (vinculado a una unidad de producto). Así, actualizan su capital de acuerdo con la cantidad de ventas y los precios asociados. Los productores luego varían los precios intentando maximizar su ganancia iteración a iteración (ver inciso \"Dinámica de variación de precio\")."
   ]
  },
  {
   "cell_type": "markdown",
   "metadata": {},
   "source": [
    "### Suposiciones:\n",
    "* El mercado se modela mediante una grilla (es un autómata celular con topología de toroide).\n",
    "* La demanda es constante y los consumidores tienen capital ilimitado. Además, los productores tienen stock ilimitado\n",
    "* El sistema evoluciona a pasos discretos, de manera sincrónica y en orden (primero los consumidores efectúan las compras y luego los productores actualizan sus precios)\n",
    "\n",
    "### Suposiciones de los Productores\n",
    "Comienzan con:\n",
    "* Un determinado capital.\n",
    "* Un costo fijo de operaciones.\n",
    "* Un costo marginal por unidad de producto.\n",
    "* Un período de tiempo (en cantidad de iteraciones) para analizar la ganancia obtenida.\n",
    "* Un precio inicial (por encima del costo marginal según un *ratio* parametrizado).\n",
    "* Los Productores pueden endeudarse y permitir que su capital sea negativo (bancarrota).\n",
    "* Si se desea, el modelo permite eliminar a los Productores en bancarrota.\n",
    "* El rendimiento obtenido en el período impacta directamente en el capital."
   ]
  },
  {
   "cell_type": "markdown",
   "metadata": {},
   "source": [
    "### Visión del consumidor\n",
    "\n",
    "Dado que los agentes (productores y consumidores) comparten la grilla, y que por lo general son dispuestos al azar según una probabilidad para los productores, puede ocurrir que algunos consumidores queden muy alejados y aislados de cualquier productor. Si en el presente modelo utilizaramos alguno de los vecindarios clásicos de la literatura de autómatas celulares (Moore o Von Neumann), esta situación sería muy recurrente.\n",
    "\n",
    "Por este motivo desarrollamos un vecindario de Moore \"extendido\" según un determinado nivel. Cada nivel se compone por las celdas del cuadrado que engloba las celdas del nivel anterior. El siguiente gráfico ilustra un vecindario de nivel 3.\n",
    "\n",
    "![Vecindario de Moore Extendido](../img/extended_moore.png)\n",
    "\n",
    "De esta manera, buscamos minimizar los casos de consumidores que queden aislados sin poder interactuar con los productores de la grilla."
   ]
  },
  {
   "cell_type": "markdown",
   "metadata": {},
   "source": [
    "### Dinámica de variación de precio\n",
    "Cada productor tiene un costo marginal (costo de producir cada producto), y un costo fijo (se cobra en cada unidad de tiempo, independientemente de la cantidad de ventas, representa por ejemplo el alquiler y la luz).\n",
    "\n",
    "Además, cada productor tiene una variable \"dirección\", que indica si el productor está aumentando o disminuyendo su precio (se inicializa aleatoriamente)\n",
    "\n",
    "Los productores buscan en todo momento maximizar su ganancia, siguiendo una metodología \"greedy\". Para esto, evalúan su ganancia en cada intervalo de tiempo, usando la siguiente fórmula:\n",
    "$$\n",
    "G_t = (Precio_t - CostoMarginal) * Ventas_t - CostoFijo\n",
    "$$\n",
    "\n",
    "Luego, comparan $G_t$ con $G_{t-1}$:\n",
    "- Si la ganancia aumentó (o se manuvo igual), se mantiene la dirección actual (si estaba aumentando el precio, sigo aumentando; y si estaba disminuyendo, sigo disminuyendo)\n",
    "- Si la ganancia disminuyó, se invierte la dirección (si estaba aumentando el precio, paso a disminuir, y viceversa)\n",
    "\n",
    "Además, hay un par de reglas extra que experimentalmente vimos que ayudan al modelo a producir mejores resultados:\n",
    "- Si en un periodo no se tuvo ventas, disminuir el precio, ya que es seguro que el precio está demasiado alto (comparado con sus productores vecinos)\n",
    "- El precio nunca puede ser menor al costo marginal, ya que no tiene sentido\n",
    "\n",
    "La variación de precio (tanto aumento como disminución) es un porcentaje del precio actual. Este porcentaje es el mismo para todos los productores, un 2%\n",
    "\n",
    "Así, la funcion que computa el nuevo precio queda:\n",
    "```python\n",
    "    def __compute_new_price(self) -> float:\n",
    "        # self.__current_factor es la variable que representa la dirección actual\n",
    "        # self.delta_price es el porcentaje de variación de precios (siempre 2%)\n",
    "        \n",
    "        current_profit = self._apply(sales=self.sales_within_period)\n",
    "        self.previous_profit = self.last_profit\n",
    "        self.last_profit = current_profit\n",
    "        increased = current_profit >= self.previous_profit\n",
    "\n",
    "        if self.sales_within_period == 0:\n",
    "            # Si no vendí, bajar precios\n",
    "            self.__current_factor = -1\n",
    "        elif not increased or self.price == self.marginal_cost:\n",
    "            # Si mi ganancia bajó, o llegué al costo marginal, invierto la dirección\n",
    "            self.__current_factor = self.__current_factor * (-1)\n",
    "\n",
    "        delta = self.delta_price * self.__current_factor\n",
    "        return max(self.marginal_cost, self.price * (1 + delta))\n",
    "```"
   ]
  },
  {
   "cell_type": "markdown",
   "metadata": {},
   "source": [
    "---\n",
    "## Introducción"
   ]
  },
  {
   "cell_type": "code",
   "execution_count": null,
   "metadata": {},
   "outputs": [],
   "source": [
    "# Inicializacion\n",
    "\n",
    "import sys\n",
    "if '../' not in sys.path:\n",
    "    sys.path.append('../')\n",
    "\n",
    "import random\n",
    "import numpy as np\n",
    "import pandas as pd\n",
    "import plotly.express as px\n",
    "import plotly.graph_objects as go\n",
    "from plotly.subplots import make_subplots\n",
    "\n",
    "from simulab.simulation.core.runner import Runner\n",
    "from simulab.simulation.core.neighborhood import Moore, ExpandedMoore\n",
    "from simulab.simulation.core.experiment import ExperimentParametersSet\n",
    "from simulab.simulation.core.equilibrium_criterion import WithoutCriterion\n",
    "\n",
    "from src.market import Market\n",
    "\n",
    "from simulab.simulation.plotters.final_grid import FinalGridSeries\n",
    "from simulab.simulation.plotters.numerical_series import NumericalSeries\n",
    "from simulab.simulation.plotters.categorical_animated_lattice import (\n",
    "    CategoricalAnimatedLatticeSeries,\n",
    ")"
   ]
  },
  {
   "cell_type": "markdown",
   "metadata": {},
   "source": [
    "---\n",
    "### Ejemplo básico"
   ]
  },
  {
   "cell_type": "markdown",
   "metadata": {},
   "source": [
    "Para implementar nuestro modelo hemos utilizado un pequeño *framework* construido durante la cursada de la presente materia. El repositorio del mismo está en GitHub y PyPi bajo el nombre de [SimuLab](https://github.com/EzequielPuerta/simulab).\n",
    "\n",
    "En el siguiente bloque de código podremos observar una simulación básica utilizando dicho *framework*, para ilustrar como utilizar el modelo desarrollado.\n",
    "\n",
    "Podemos agrupar los parámetros de nuestro modelo en la clase `ExperimentParametersSet`. La misma acepta una lista de valores para cada uno de dichos parámetros. De esta manera, se pueden barrer varios valores de un mismo parámetro.\n",
    "\n",
    "Tenemos la posibilidad de informar la cantidad máxima de iteraciones a realizar mediante `max_steps` y de utilizar un criterio para detener la simulación antes de alcanzar el máximo de iteraciones (al encontrar un equilibrio en algún valor observable de la simulación por ejemplo). En nuestro caso, para mantenerlo simple, no utilizaremos criterio de parada (por eso pasamos una instancia de `WithoutCriterion`) y dejamos la cantidad máxima de iteraciones en 500.\n",
    "\n",
    "Todos esos datos se los pasamos al `Runner` junto al modelo a simular, en nuestro caso el llamado `Market`. `Runner` contiene toda la lógica necesaria para poder simular nuestro modelo con los parámetros deseados. Para iniciar la simulación, debemos ejecutar el método `start()` del `runner`."
   ]
  },
  {
   "cell_type": "code",
   "execution_count": null,
   "metadata": {},
   "outputs": [],
   "source": [
    "from scenarios.basic_example import config as basic_example_conf\n",
    "\n",
    "random.seed(2000)\n",
    "np.random.seed(2000)\n",
    "\n",
    "experiment_parameters_set = ExperimentParametersSet(\n",
    "    length=[20],\n",
    "    neighborhood=[ExpandedMoore(3)],\n",
    "    agent_types=[2],\n",
    "    capital=[2500],\n",
    "    producer_probability=[0.15],\n",
    "    profit_period=[7],\n",
    "    price_ratio=[(1.2, 1.5)],\n",
    "    fixed_cost=[(10, 1)],\n",
    "    marginal_cost=[(10, 1)],\n",
    "    quantity_to_buy=[(1, 0)],\n",
    "    bankrupt_enabled=[False],\n",
    "    configuration=[basic_example_conf]\n",
    ")\n",
    "criterion = WithoutCriterion()\n",
    "runner0 = Runner(Market, experiment_parameters_set, criterion, max_steps=500)\n",
    "runner0.start()"
   ]
  },
  {
   "cell_type": "markdown",
   "metadata": {},
   "source": [
    "El runner se encargará no solo de simular el modelo, sino también de ir calculando y almacenando una variedad de datos de gran utilidad para el posterior análisis del modelo. Estos datos a calcular son definidos en la clase del propio modelo, en nuestro caso en el archivo `src/market.py`, bajo los métodos decorados como `@as_series`.\n",
    "\n",
    "Todo método de `Market` que tenga algún decorador que lo identifique como una serie de datos, será ejecutado en cada iteración y se almacenarán los datos producidos. Una vez terminada la simulación, podremos utilizar el `runner` para graficar dichos datos mediante los distintos `plotters` que contiene la libreria, o acceder a los resultados precalculados para crear nuevas gráficas mas acordes a las necesidades de la situación.\n",
    "\n",
    "A continuación se muestra uno de los `plotters` disponibles, llamado `CategoricalAnimatedLatticeSeries`, que nos permite obtener una animación (basada en *Plotly*) del primer experimento del `runner` (por si se realizaron varias simulaciones en el mismo `runner`). La animación graficará la serie `price_categorized_lattice`, que es un snapshot de la grilla en cada iteración, haciendo foco solamente en los precios de cada agente. Al ser \"categorized\" se podrá filtrar por el tipo agente."
   ]
  },
  {
   "cell_type": "code",
   "execution_count": null,
   "metadata": {},
   "outputs": [],
   "source": [
    "CategoricalAnimatedLatticeSeries.show_up(\n",
    "    \"price_categorized_lattice\",\n",
    "    runner=runner0,\n",
    "    experiment_id=0,\n",
    "    plot_title=\"Evolución del precio\",\n",
    "    height=500,\n",
    "    colorscale=\"Viridis\",\n",
    "    show_labels=False,\n",
    ")"
   ]
  },
  {
   "cell_type": "markdown",
   "metadata": {},
   "source": [
    "Luego, podemos observar la evolución del precio promedio"
   ]
  },
  {
   "cell_type": "code",
   "execution_count": null,
   "metadata": {},
   "outputs": [],
   "source": [
    "NumericalSeries.show_up(\n",
    "    \"average_price\",\n",
    "    runner=runner0,\n",
    "    plot_title=\"Precio promedio entre productores y consumidores\",\n",
    "    yaxis_title=\"Precio promedio\",\n",
    ")"
   ]
  },
  {
   "cell_type": "markdown",
   "metadata": {},
   "source": [
    "Y la variación de precio y ganancia respecto al instante anterior"
   ]
  },
  {
   "cell_type": "code",
   "execution_count": null,
   "metadata": {},
   "outputs": [],
   "source": [
    "NumericalSeries.show_up(\n",
    "    \"average_price_change\",\n",
    "    runner=runner0,\n",
    "    plot_title=\"Incremento porcentual de precios (promedio entre productores)\",\n",
    "    yaxis_title=\"Incremento promedio\",\n",
    ")\n",
    "NumericalSeries.show_up(\n",
    "    \"average_profit_change\",\n",
    "    runner=runner0,\n",
    "    plot_title=\"Incremento porcentual de ganancia (promedio entre productores)\",\n",
    "    yaxis_title=\"Incremento promedio\",\n",
    ")"
   ]
  },
  {
   "cell_type": "markdown",
   "metadata": {},
   "source": [
    "---\n",
    "### Barrido del parámetro `producer_probability`"
   ]
  },
  {
   "cell_type": "markdown",
   "metadata": {},
   "source": [
    "Dicho ya lo básico de nuestro modelo, pasemos a un ejemplo un poco mas interesante. Hagamos un barrido del parámetro `producer_probability`, pasando esta vez no una lista con un único valor, sino con todos los valores que deseamos analizar."
   ]
  },
  {
   "cell_type": "code",
   "execution_count": null,
   "metadata": {},
   "outputs": [],
   "source": [
    "experiment_parameters_set = ExperimentParametersSet(\n",
    "    length=[10],\n",
    "    neighborhood=[ExpandedMoore(3)],\n",
    "    agent_types=[2],\n",
    "    capital=[2500],\n",
    "    producer_probability=[0.05, 0.10, 0.15, 0.50],\n",
    "    profit_period=[7],\n",
    "    price_ratio=[(1.2, 1.5)],\n",
    "    fixed_cost=[(10, 1)],\n",
    "    marginal_cost=[(10, 1)],\n",
    "    quantity_to_buy=[(1, 0)],\n",
    "    bankrupt_enabled=[False],\n",
    ")\n",
    "criterion = WithoutCriterion()\n",
    "runner1 = Runner(Market, experiment_parameters_set, criterion, max_steps=500)\n",
    "runner1.start()"
   ]
  },
  {
   "cell_type": "markdown",
   "metadata": {},
   "source": [
    "Y utilicemos otro `plotter`, llamado `FinalGridSeries`, que nos permitirá crear un gráfico compuesto por varios subplots, organizados en N filas y 2 columnas. La cantidad de filas es equivalente a la cantidad de experimentos simulados en el `runner`, que a su vez es igual al producto cartesiano de las listas provistas como parámetro en el `ExperimentParametersSet`.\n",
    "\n",
    "En nuestro caso, todos los parámetros tienen listas de un único elemento salvo por el mencionado atributo `producer_probability`, que tiene una lista con 4 valores distintos. Por lo tanto N=4.\n",
    "\n",
    "Volviendo al gráfico, como dijimos, cada fila representa un experimento con su combinación de parámetros. Por otro lado, cada columna representa un instante de la simulación. La primera columna es el instante inicial. La segunda columna es la última iteración de cada simulación. No necesariamente tienen que ser en la misma iteración."
   ]
  },
  {
   "cell_type": "code",
   "execution_count": null,
   "metadata": {},
   "outputs": [],
   "source": [
    "FinalGridSeries.show_up(\n",
    "    \"price_lattice\", \n",
    "    runner=runner1,\n",
    "    plot_title=(\"Evolución de Precios de Mercado\"),\n",
    "    leyend=\"Precio\",\n",
    "    colorscale=\"Viridis\",\n",
    ")"
   ]
  },
  {
   "cell_type": "markdown",
   "metadata": {},
   "source": [
    "Se observa que para las dos primeras simulaciones, con valores bajos de `producer_probability`, los precios se elevan, aparentemente sin techo. Por el contrario, para valores altos de `producer_probability`, los precios tienden a equilibrarse en toda la grilla alrededor del valor 10. No tan casualmente, es el mismo valor que indicamos para la media del costo marginal para los productores. Pero hablaremos de esto mas adelante.\n",
    "\n",
    "El gráfico nos da la pauta que hay un momento en el cuál el valor de `producer_probability` (y por consiguiente, la cantidad de productores disponibles en la grilla) condiciona que ocurrirá con los precios del modelo.\n",
    "\n",
    "Sin entrar en demasiado detalle porque ocurre ésto, hagamos un barrido mucho mas fino para detectar el valor de dicho punto crítico. Ésta vez, con valores entre 3% y 25%. Además, repitamos 30 veces la simulación para cada valor de probabilidad. De esa manera tendremos una muestra de precios bastante grande, categorizados según su `producer_probability`, que graficaremos con un Box Plot para estudiar la media y la dispersión en cada caso."
   ]
  },
  {
   "cell_type": "code",
   "execution_count": null,
   "metadata": {},
   "outputs": [],
   "source": [
    "# Barrido entre 0.03 y 0.25\n",
    "\n",
    "criterion2 = WithoutCriterion()\n",
    "prices, probabilities = [], []\n",
    "_probabilities = [value/100 for value in range(3, 25)]\n",
    "repetitions = 30\n",
    "length = 10\n",
    "\n",
    "for probability in _probabilities:\n",
    "    for _ in range(repetitions):\n",
    "        experiment_parameters_set2 = ExperimentParametersSet(\n",
    "            length=[length],\n",
    "            neighborhood=[ExpandedMoore(3)],\n",
    "            agent_types=[2],\n",
    "            capital=[5000],\n",
    "            producer_probability=[probability],\n",
    "            profit_period=[7],\n",
    "            price_ratio=[(1.2, 1.5)],\n",
    "            fixed_cost=[(10, 1)],\n",
    "            marginal_cost=[(10, 1)],\n",
    "            quantity_to_buy=[(1, 0)],\n",
    "            bankrupt_enabled=[False],\n",
    "        )\n",
    "        runner2 = Runner(Market, experiment_parameters_set2, criterion2, max_steps=500)\n",
    "        runner2.start()\n",
    "        final_prices = sum(runner2.experiments[0].series[\"price_lattice\"][-1], [])\n",
    "        \n",
    "        prices = prices + final_prices\n",
    "        probabilities = probabilities + ([probability] * length**2)\n",
    "\n",
    "prices_dataframe = pd.DataFrame({\"price\": prices, \"probability\": probabilities})\n",
    "fig = px.box(prices_dataframe, x=\"probability\", y=\"price\")\n",
    "fig.show()"
   ]
  },
  {
   "cell_type": "markdown",
   "metadata": {},
   "source": [
    "Se observa que en general, el sistema tiene un comportamiento muy distinto para valores inferiores al 15% de probabilidad de productores, comparado con valores superiores. Analizaremos ahora con mas detalle que ocurre en situaciones alrededor de ese valor, con valores inferiores al mismo y también por supuesto, valores superiores."
   ]
  },
  {
   "cell_type": "markdown",
   "metadata": {},
   "source": [
    "---\n",
    "## Escenario 1: Monopolio"
   ]
  },
  {
   "cell_type": "markdown",
   "metadata": {},
   "source": [
    "En esta sección, queremos explorar el efecto que tienen los monopolios sobre el precio de un producto. La idea es observar cómo, en un mercado con poca competencia, los productores son libres de aumentar el precio sin límite (siempre bajo la hipótesis de consumidores con capital ilimitado y demanda constante)."
   ]
  },
  {
   "cell_type": "markdown",
   "metadata": {},
   "source": [
    "### Monopolio absoluto\n",
    "\n",
    "Para empezar, proponemos una configuración básica, en la que cada consumidor tiene un único productor al que le puede comprar. Notar que en este caso, al no haber consumidores compartidos, no hay realmente una señal de precio que compartan los distintos productores. Por lo tanto, no se trata realmente de un sistema complejo, ya que no hay interacciones no lineales entre agentes. Sin embargo, nos pareció un buen punto para comenzar, ya que permite observar comportamientos interesantes que ocurren en el caso límite."
   ]
  },
  {
   "cell_type": "code",
   "execution_count": null,
   "metadata": {},
   "outputs": [],
   "source": [
    "from scenarios.monopolios_basic import config as monopolios_basic_conf\n",
    "np.random.seed(seed=12345)\n",
    "random.seed(1234)\n",
    "\n",
    "experiment_parameters_set = ExperimentParametersSet(\n",
    "    length=[6],\n",
    "    neighborhood=[Moore],\n",
    "    agent_types=[2],\n",
    "    producer_probability=[0.15],\n",
    "    profit_period=[2],\n",
    "    configuration = [monopolios_basic_conf],\n",
    "    price_ratio=[(1.2, 5)],\n",
    "    fixed_cost=[(20, 0)],\n",
    "    marginal_cost=[(10, 1)],\n",
    "    quantity_to_buy=[(1,0)],\n",
    "    bankrupt_enabled=[False],\n",
    ")\n",
    "criterion = WithoutCriterion()\n",
    "runner_monopolio = Runner(Market, experiment_parameters_set, criterion, max_steps=500)\n",
    "runner_monopolio.start()"
   ]
  },
  {
   "cell_type": "markdown",
   "metadata": {},
   "source": [
    "En la siguiente celda, se puede ver la distribución de agentes, donde los amarillos son los productores y los violetas son los consumidores.\n",
    "\n",
    "En este caso, consideramos un vecindario de Moore tradicional"
   ]
  },
  {
   "cell_type": "code",
   "execution_count": null,
   "metadata": {},
   "outputs": [],
   "source": [
    "CategoricalAnimatedLatticeSeries.show_up(\n",
    "    \"agent_types_categorized_lattice\",\n",
    "    runner=runner_monopolio,\n",
    "    experiment_id=0,\n",
    "    plot_title=\"Tipos de agentes\",\n",
    "    height=400,\n",
    ")"
   ]
  },
  {
   "cell_type": "markdown",
   "metadata": {},
   "source": [
    "Al ejecutarlo, podemos ver que rápidamente los productores se dan cuenta de que pueden subir los precios constantemente, aumentando así sus ganancias"
   ]
  },
  {
   "cell_type": "code",
   "execution_count": null,
   "metadata": {},
   "outputs": [],
   "source": [
    "CategoricalAnimatedLatticeSeries.show_up(\n",
    "    \"price_categorized_lattice\",\n",
    "    runner=runner_monopolio,\n",
    "    experiment_id=0,\n",
    "    plot_title=\"Evolución del precio\",\n",
    "    height=500,\n",
    "    zmin=0,\n",
    "    zmax=300,\n",
    ")"
   ]
  },
  {
   "cell_type": "markdown",
   "metadata": {},
   "source": [
    "Se puede ver además que tanto las ganancias de los productores, como los precios de los productos siguen un crecimiento exponencial (con exponente ~0.02, que es el incremento de precio por paso configurado por default)"
   ]
  },
  {
   "cell_type": "code",
   "execution_count": null,
   "metadata": {},
   "outputs": [],
   "source": [
    "productor = (1, 1)\n",
    "productor_profit_series = [iter[productor[0]][productor[1]]\n",
    "                           for iter in runner_monopolio.experiments[0].series['profit_categorized_lattice']]\n",
    "runner_monopolio.experiments[0].series['productor_profit_series'] = [profit for profit, agent_type in productor_profit_series]\n",
    "\n",
    "NumericalSeries.show_up(\n",
    "    \"productor_profit_series\",\n",
    "    runner=runner_monopolio,\n",
    "    plot_title=\"Ganancia de un productor\",\n",
    "    yaxis_title=\"Ganancia\",\n",
    ")\n",
    "\n",
    "NumericalSeries.show_up(\n",
    "    \"average_price\",\n",
    "    runner=runner_monopolio,\n",
    "    plot_title=\"Precio promedio entre productores y consumidores\",\n",
    "    yaxis_title=\"Precio promedio\",\n",
    ")"
   ]
  },
  {
   "cell_type": "markdown",
   "metadata": {},
   "source": [
    "Además podemos ver que, luego de un pequeño intervalo en el que prueban hacia donde mover los precios, el incremento porcentual de precios (respecto a t-1) es del 2% (otra vez, indicando que todos los productores están incrementando su precio por el porcentaje definido)"
   ]
  },
  {
   "cell_type": "code",
   "execution_count": null,
   "metadata": {},
   "outputs": [],
   "source": [
    "NumericalSeries.show_up(\n",
    "    \"average_price_change\",\n",
    "    runner=runner_monopolio,\n",
    "    plot_title=\"Incremento porcentual de precios (promedio entre productores)\",\n",
    "    yaxis_title=\"Incremento promedio\",\n",
    ")"
   ]
  },
  {
   "cell_type": "markdown",
   "metadata": {},
   "source": [
    "Además, el incremento porcentual de ganancia también tiende al 2%.\n",
    "\n",
    "De hecho, es mayor al 2%, porque el costo marginal del producto cada vez se hace más insignificante, a medida que aumenta el precio del mismo."
   ]
  },
  {
   "cell_type": "code",
   "execution_count": null,
   "metadata": {},
   "outputs": [],
   "source": [
    "NumericalSeries.show_up(\n",
    "    \"average_profit_change\",\n",
    "    runner=runner_monopolio,\n",
    "    plot_title=\"Incremento porcentual de ganancia (promedio entre productores)\",\n",
    "    yaxis_title=\"Incremento promedio\",\n",
    ")"
   ]
  },
  {
   "cell_type": "markdown",
   "metadata": {},
   "source": [
    "### Aumento de precios en cadena\n",
    "\n",
    "Luego, buscamos otra configuración que presente comportamientos de monopolios (es decir, que haya productores que tienen exclusividad sobre ciertos clientes), pero donde también existan otros consumidores compartidos entre los productores, para permitir la emergencia de comportamientos complejos.\n",
    "\n",
    "Para eso, generamos una configuración aleatoria, con un 6% de productores, y un 94% de consumidores. Consideramos un vecindario \"Expanded Moore (3)\""
   ]
  },
  {
   "cell_type": "code",
   "execution_count": null,
   "metadata": {},
   "outputs": [],
   "source": [
    "from scenarios.monopolios_complex import config as monopolios_complex_conf\n",
    "\n",
    "experiment_parameters_set = ExperimentParametersSet(\n",
    "    length=[20],\n",
    "    neighborhood=[ExpandedMoore(3)],\n",
    "    agent_types=[2],\n",
    "    configuration = [monopolios_complex_conf],\n",
    "    producer_probability=[0.06],\n",
    "    profit_period=[2],\n",
    "    price_ratio=[(1.2, 1.5)],\n",
    "    fixed_cost=[(20, 0)],\n",
    "    marginal_cost=[(10, 1)],\n",
    "    quantity_to_buy=[(1,0)],\n",
    "    bankrupt_enabled=[False],\n",
    ")\n",
    "criterion = WithoutCriterion()\n",
    "runner_cadena = Runner(Market, experiment_parameters_set, criterion, max_steps=500)\n",
    "runner_cadena.start()"
   ]
  },
  {
   "cell_type": "markdown",
   "metadata": {},
   "source": [
    "Como se puede ver, los productores que tienen monopolios sobre ciertas regiones suelen ser los primeros en subir el precio, ya que tienen al menos algunos compradores garantizados.\n",
    "\n",
    "A su vez, los precios altos permiten que otros productores cercanos eleven sus precios sin perder ventas, por lo que también lo hacen, y esto se propaga hacia el resto de regiones, provocando que finalmente todos los precios se eleven."
   ]
  },
  {
   "cell_type": "code",
   "execution_count": null,
   "metadata": {},
   "outputs": [],
   "source": [
    "CategoricalAnimatedLatticeSeries.show_up(\n",
    "    \"agent_types_categorized_lattice\",\n",
    "    runner=runner_cadena,\n",
    "    experiment_id=0,\n",
    "    plot_title=\"Tipos de agentes de Mercado\",\n",
    "    height=400,\n",
    ")\n",
    "CategoricalAnimatedLatticeSeries.show_up(\n",
    "    \"price_categorized_lattice\",\n",
    "    runner=runner_cadena,\n",
    "    experiment_id=0,\n",
    "    plot_title=\"Evolución del precio en modelo de Mercado\",\n",
    "    height=500,\n",
    "    zmin=0,\n",
    "    zmax=300,\n",
    ")"
   ]
  },
  {
   "cell_type": "markdown",
   "metadata": {},
   "source": [
    "Otra vez, en presencia de tantos monopolios, el crecimiento de precios tiende a una exponencial."
   ]
  },
  {
   "cell_type": "code",
   "execution_count": null,
   "metadata": {},
   "outputs": [],
   "source": [
    "NumericalSeries.show_up(\n",
    "    \"average_price\",\n",
    "    runner=runner_cadena,\n",
    "    plot_title=\"Precio promedio entre productores y consumidores\",\n",
    "    yaxis_title=\"Precio promedio\",\n",
    ")"
   ]
  },
  {
   "cell_type": "markdown",
   "metadata": {},
   "source": [
    "Además, luego de un breve periodo de tiempo (en el que todavía hay competencia entre algunos productores cercanos), otra vez vemos que todos los proveedores incrementan el precio lo máximo posible en cada paso."
   ]
  },
  {
   "cell_type": "code",
   "execution_count": null,
   "metadata": {},
   "outputs": [],
   "source": [
    "NumericalSeries.show_up(\n",
    "    \"average_price_change\",\n",
    "    runner=runner_cadena,\n",
    "    plot_title=\"Incremento porcentual de precios (promedio entre productores)\",\n",
    "    yaxis_title=\"Incremento promedio\",\n",
    ")"
   ]
  },
  {
   "cell_type": "markdown",
   "metadata": {},
   "source": [
    "El incremento de ganancia parece tener un poco más de varianza al principio, pero después vuelve a estabilizarse en 2%."
   ]
  },
  {
   "cell_type": "code",
   "execution_count": null,
   "metadata": {},
   "outputs": [],
   "source": [
    "NumericalSeries.show_up(\n",
    "    \"average_profit_change\",\n",
    "    runner=runner_cadena,\n",
    "    plot_title=\"Incremento porcentual de ganancia (promedio entre productores)\",\n",
    "    yaxis_title=\"Incremento promedio\",\n",
    ")"
   ]
  },
  {
   "cell_type": "markdown",
   "metadata": {},
   "source": [
    "---\n",
    "## Escenario 2: Equilibrio dinámico\n",
    "\n",
    "En esta sección queremos estudiar el caso donde los productores estan distribuidos uniformemente, de forma tal que todo consumidor tenga a por lo menos 2 productores en su rango de visión."
   ]
  },
  {
   "cell_type": "code",
   "execution_count": null,
   "metadata": {},
   "outputs": [],
   "source": [
    "np.random.seed(seed=6)\n",
    "random.seed(6)"
   ]
  },
  {
   "cell_type": "code",
   "execution_count": null,
   "metadata": {},
   "outputs": [],
   "source": [
    "from scenarios.equilibrio_dinamico import config as equilibrio_dinamico_conf\n",
    "\n",
    "experiment_parameters_set = ExperimentParametersSet(\n",
    "    length=[20],\n",
    "    neighborhood=[ExpandedMoore(2)],\n",
    "    agent_types=[2],\n",
    "    capital=[100],\n",
    "    producer_probability=[0.24],\n",
    "    profit_period=[2],\n",
    "    price_ratio=[(1.3, 1.5)],\n",
    "    fixed_cost=[(7, 0)],\n",
    "    marginal_cost=[(10, 1)],\n",
    "    quantity_to_buy=[(1,0)],\n",
    "    bankrupt_enabled=[False],\n",
    "    configuration=[equilibrio_dinamico_conf]\n",
    ")\n",
    "criterion = WithoutCriterion()\n",
    "runner_equilibrio = Runner(Market, experiment_parameters_set, criterion, max_steps=200)\n",
    "runner_equilibrio.start()"
   ]
  },
  {
   "cell_type": "code",
   "execution_count": null,
   "metadata": {},
   "outputs": [],
   "source": [
    "FinalGridSeries.show_up(\n",
    "    \"price_lattice\", \n",
    "    runner=runner_equilibrio,\n",
    "    plot_title=(\"Evolución de Precios en un escenario competitivo\"),\n",
    "    leyend=\"Precio\",\n",
    "    height=400,\n",
    "    colorscale=\"Viridis\",\n",
    ")"
   ]
  },
  {
   "cell_type": "markdown",
   "metadata": {},
   "source": [
    "## Estabilización del precio\n",
    "\n",
    "Podemos observar como ahora en un escenario más competitivo, los precios tienden a estavilizarse al rededor de un valor."
   ]
  },
  {
   "cell_type": "code",
   "execution_count": null,
   "metadata": {},
   "outputs": [],
   "source": [
    "CategoricalAnimatedLatticeSeries.show_up(\n",
    "    \"price_categorized_lattice\",\n",
    "    runner=runner_equilibrio,\n",
    "    experiment_id=0,\n",
    "    plot_title=\"Evolución del precio\",\n",
    "    height=500,\n",
    "    colorscale=\"Viridis\",\n",
    "    show_labels=False,\n",
    "    zmax=15,\n",
    "    zmin=8,\n",
    ")"
   ]
  },
  {
   "cell_type": "code",
   "execution_count": null,
   "metadata": {},
   "outputs": [],
   "source": [
    "NumericalSeries.show_up(\n",
    "    \"average_consumer_price\",\n",
    "    runner=runner_equilibrio,\n",
    "    plot_title=\"Precio promedio entre consumidores\",\n",
    "    yaxis_title=\"Precio promedio\",\n",
    ")"
   ]
  },
  {
   "cell_type": "code",
   "execution_count": null,
   "metadata": {},
   "outputs": [],
   "source": [
    "NumericalSeries.show_up(\n",
    "    \"average_producer_price\",\n",
    "    runner=runner_equilibrio,\n",
    "    plot_title=\"Precio promedio entre productores\",\n",
    "    yaxis_title=\"Precio promedio\",\n",
    ")"
   ]
  },
  {
   "cell_type": "code",
   "execution_count": null,
   "metadata": {},
   "outputs": [],
   "source": [
    "NumericalSeries.show_up(\n",
    "    \"gini_prices_distribution\",\n",
    "    runner=runner_equilibrio,\n",
    "    plot_title=\"Coeficiente de gini de los precios de los consumidores\",\n",
    "    yaxis_title=\"Coeficiente de gini\",\n",
    ")"
   ]
  },
  {
   "cell_type": "markdown",
   "metadata": {},
   "source": [
    "Claramente, a nivel macroscopico, el precio tiende a estabilizarse cerca del costo marginal promedio de los productores. Abajo podemos observar la diferencia en las distribuciones de los precios de los productores al inicio y al final de la simulación:"
   ]
  },
  {
   "cell_type": "code",
   "execution_count": null,
   "metadata": {},
   "outputs": [],
   "source": [
    "productores = set(runner_equilibrio.experiments[0]._by_type[1])\n",
    "first = runner_equilibrio.experiments[0].series['price_lattice'][0]\n",
    "last = runner_equilibrio.experiments[0].series['price_lattice'][-1]\n",
    "first_data = [ [first[i][j], \"t_0\"] for (i, j) in productores ]\n",
    "last_data = [ [last[i][j], \"t_200\"] for (i, j) in productores ]\n",
    "data = first_data + last_data\n",
    "\n",
    "fig = px.histogram(pd.DataFrame(data, columns=[\"Precio\", \"Iteración\"]),\n",
    "                   title=\"Histogramas de precios iniciales y finales para productores.\",\n",
    "                   x=\"Precio\",\n",
    "                   nbins=30,\n",
    "                   color=\"Iteración\")\n",
    "fig.show()"
   ]
  },
  {
   "cell_type": "markdown",
   "metadata": {},
   "source": [
    "## La ganancia de los productores\n",
    "\n",
    "Por otro lado, pude resultarnos interesante estudiar que tan exitosos están siendo los productores. Esto lo hacemos viendo día a día, como varian las ganancias de cada uno."
   ]
  },
  {
   "cell_type": "code",
   "execution_count": null,
   "metadata": {},
   "outputs": [],
   "source": [
    "CategoricalAnimatedLatticeSeries.show_up(\n",
    "    \"profit_categorized_lattice\",\n",
    "    runner=runner_equilibrio,\n",
    "    experiment_id=0,\n",
    "    plot_title=\"Evolución de la ganancia entre los productores\",\n",
    "    height=500,\n",
    ")"
   ]
  },
  {
   "cell_type": "markdown",
   "metadata": {},
   "source": [
    "Nos encontramos con que tenemos productores que logran competir y mantener una ganancia positiva, pero también existen otros que están en un estado de frustración. Es decir, que no lograr hacer las ventas suficientes para superar el gasto fijo, debido a que no pueden ser competitivos en su vecindario."
   ]
  },
  {
   "cell_type": "code",
   "execution_count": null,
   "metadata": {},
   "outputs": [],
   "source": [
    "productor = (8, 7)\n",
    "productor_profit_series = [iter[productor[0]][productor[1]]\n",
    "                           for iter in runner_equilibrio.experiments[0].series['profit_categorized_lattice']]\n",
    "runner_equilibrio.experiments[0].series['productor_profit_series'] = [profit for profit, agent_type in productor_profit_series]\n",
    "NumericalSeries.show_up(\n",
    "    \"productor_profit_series\",\n",
    "    runner=runner_equilibrio,\n",
    "    plot_title=\"Ganancia de un productor que logra competir\",\n",
    "    yaxis_title=\"Ganancia\",\n",
    ")"
   ]
  },
  {
   "cell_type": "code",
   "execution_count": null,
   "metadata": {},
   "outputs": [],
   "source": [
    "productor = (9, 10)\n",
    "productor_profit_series = [iter[productor[0]][productor[1]]\n",
    "                           for iter in runner_equilibrio.experiments[0].series['profit_categorized_lattice']]\n",
    "runner_equilibrio.experiments[0].series['productor_profit_series'] = [profit for profit, agent_type in productor_profit_series]\n",
    "NumericalSeries.show_up(\n",
    "    \"productor_profit_series\",\n",
    "    runner=runner_equilibrio,\n",
    "    plot_title=\"Ganancia de un productor frustrado\",\n",
    "    yaxis_title=\"Ganancia\",\n",
    ")"
   ]
  },
  {
   "cell_type": "markdown",
   "metadata": {},
   "source": [
    "---\n",
    "## Escenario 3: Bancarrota"
   ]
  },
  {
   "cell_type": "markdown",
   "metadata": {},
   "source": [
    "Como acabamos de ver, actualmente si un productor termina con capital no positivo, puede seguir interactuando en la simulación, vendiendo sus productos y endeudándose sin límite.\n",
    "\n",
    "Al no ser esto demasiado real, introducimos el concepto de *\"bancarrota\"*, que podrá ser activado con el atributo `bankrupt_enabled=True` del modelo `Market`.\n",
    "\n",
    "Una vez activado, todo aquel productor cuyo capital no sea positivo, se lo considerará en bancarrota y no será contemplado en la simulación. Es decir, no podrá vender sus productos y si satisfacía a algún consumidor, éste deberá buscar otro productor a quién comprarle."
   ]
  },
  {
   "cell_type": "code",
   "execution_count": null,
   "metadata": {},
   "outputs": [],
   "source": [
    "from copy import deepcopy\n",
    "from src.bankrupt_utils import *\n",
    "\n",
    "random.seed(1000)\n",
    "np.random.seed(1000)"
   ]
  },
  {
   "cell_type": "code",
   "execution_count": null,
   "metadata": {},
   "outputs": [],
   "source": [
    "configuration = create_configuration()\n",
    "experiment_parameters_set = ExperimentParametersSet(\n",
    "    length=[20],\n",
    "    neighborhood=[ExpandedMoore(3)],\n",
    "    agent_types=[2],\n",
    "    capital=[1_000],\n",
    "    stock=[5_000_000_000],\n",
    "    producer_probability=[0.20],\n",
    "    profit_period=[7],\n",
    "    price_ratio=[(1.2, 1.5)],\n",
    "    fixed_cost=[(10, 1)],\n",
    "    marginal_cost=[(10, 1)],\n",
    "    quantity_to_buy=[(1, 0)],\n",
    "    bankrupt_enabled=[False, True],\n",
    "    configuration=[configuration],\n",
    ")\n",
    "criterion = WithoutCriterion()\n",
    "runner_bankrupt_0 = Runner(Market, experiment_parameters_set, criterion, max_steps=1000)\n",
    "runner_bankrupt_0.start()"
   ]
  },
  {
   "cell_type": "markdown",
   "metadata": {},
   "source": [
    "A continuación analizaremos una configuración inicial bajo el concepto de bancarrota. Para comparar, también observemos la misma configuración pero con *bancarrota* desactivada.\n",
    "\n",
    "Vemos como en ambos casos hay productores que quedan con montos de capital no positivos, pero en el primer caso, los productores siguen interactuando y afectando el precio de sus vecinos. Es decir, siguen compitiendo por la demanda disponible aún cuando no tienen capital para afrontar las deudas en las que incurrieron.\n",
    "\n",
    "Por el contrario, con la bancarrota activada, observamos que varios productores desaparecen de la simulación, provocando que los productores escaseen y que algunos (beneficiados por la ubicación que obtuvieron al azar) tengan la posibilidad de incrementar sus precios dado que ven aumentar la demanda que reciben."
   ]
  },
  {
   "cell_type": "code",
   "execution_count": null,
   "metadata": {},
   "outputs": [],
   "source": [
    "FinalGridSeries.show_up(\n",
    "    \"capital_lattice\", \n",
    "    runner=runner_bankrupt_0,\n",
    "    plot_title=\"Evolución del capital de los productores\",\n",
    "    leyend=\"Capital\",\n",
    "    colorscale=\"Viridis\",\n",
    ")"
   ]
  },
  {
   "cell_type": "code",
   "execution_count": null,
   "metadata": {},
   "outputs": [],
   "source": [
    "CategoricalAnimatedLatticeSeries.show_up(\n",
    "    \"profit_categorized_lattice\",\n",
    "    runner=runner_bankrupt_0,\n",
    "    experiment_id=1,\n",
    "    plot_title=f\"Evolución de la ganancia de los productores\",\n",
    "    height=500,\n",
    ")"
   ]
  },
  {
   "cell_type": "markdown",
   "metadata": {},
   "source": [
    "Si observamos los precios en lugar del capital, vemos que sin bancarrota, los precios se estabilizan alrededor del costo marginal (como vimos antes), dado que la probabilidad de existencia de productores está por encima del punto crítico (en particular, para este caso parametrizamos %20).\n",
    "\n",
    "Pero al activarse la bancarrota, la cantidad de productores desciende considerablemente con el paso de las iteraciones, por lo tanto disminuye la competencia y aumenta la probabilidad de encontrar regiones monopolizadas por los productores restantes que terminan elevando los precios al no encontrar resistencia de otros productores."
   ]
  },
  {
   "cell_type": "code",
   "execution_count": null,
   "metadata": {},
   "outputs": [],
   "source": [
    "FinalGridSeries.show_up(\n",
    "    \"price_lattice\", \n",
    "    runner=runner_bankrupt_0,\n",
    "    plot_title=\"Evolución de los precios\",\n",
    "    leyend=\"Precio\",\n",
    "    colorscale=\"Viridis\",\n",
    ")"
   ]
  },
  {
   "cell_type": "markdown",
   "metadata": {},
   "source": [
    "Algo que podemos preguntarnos es si al activar la bancarrota (y por consiguiente, aumentar las chances de generar monopolios donde no había ninguno), estamos incrementando la cantidad de productores que caen en bancarrota con respecto a los que hubieran quedado con capital no positivo sin bancarrota activada.\n",
    "\n",
    "Para ello vamos a hacer un barrido de probabilidades un poco mas fino, y dada cada probabilidad, simular 10 veces el modelo en ambas versiones: con y sin bancarrota. Todos los resultados los vamos a guardar en un diccionario que luego mostraremos en un gráfico de barras."
   ]
  },
  {
   "cell_type": "code",
   "execution_count": null,
   "metadata": {},
   "outputs": [],
   "source": [
    "repetitions = 10\n",
    "max_steps = 1000\n",
    "_probabilities = [value/100 for value in range(3, 30, 3)]\n",
    "\n",
    "data = {}\n",
    "data[\"Capital\"] = [] \n",
    "data[\"Cantidad\"] = []\n",
    "data[\"Estrategia\"] = []\n",
    "\n",
    "for probability in _probabilities:\n",
    "    for _ in range(repetitions):\n",
    "        configuration = create_configuration(producer_probability=probability)\n",
    "        execute_with(\n",
    "            configuration,\n",
    "            data,\n",
    "            f\"Sin bancarrota (prob: {probability})\",\n",
    "            max_steps=max_steps,\n",
    "            bankrupt_enabled=False)\n",
    "        execute_with(\n",
    "            configuration,\n",
    "            data,\n",
    "            f\"Con bancarrota (prob: {probability})\",\n",
    "            max_steps=max_steps,\n",
    "            bankrupt_enabled=True)"
   ]
  },
  {
   "cell_type": "markdown",
   "metadata": {},
   "source": [
    "Finalmente se observa que no hay demasiada diferencia de cantidad de productores entre las versiones con y sin bancarrota. Es más, en todos los casos hay una leve ventaja de los productores con capital positivo en la versión con bancarrota. O lo que es igual, en la versión con bancarrota, hay levemente menos productores que se quedan sin capital.\n",
    "\n",
    "Podemos intuir que esto se debe a que en la versión con bancarrota, los productores sin capital dejan de interactuar, liberando una parte de la demanda para que busque nuevos productores a quienes comprar. Esto puede hacer que algunos productores que estaban cerca de la bancarrota, la eviten, recibiendo un afluente de demanda con la que no estaban contando previamente.\n",
    "\n",
    "Por el contrario, en la versión sin bancarrota, los productores con capital negativo siguen interactuando y no liberan la demanda, por lo que pueden estar colaborando indirectamente en la pérdida de ganancias de otros productores, a tal punto de llevarlos también a tener capital negativo."
   ]
  },
  {
   "cell_type": "code",
   "execution_count": null,
   "metadata": {},
   "outputs": [],
   "source": [
    "data = pd.DataFrame(pd.DataFrame(data), columns=[\"Capital\", \"Cantidad\", \"Estrategia\"])\n",
    "fig = px.bar(\n",
    "    data,\n",
    "    title=\"Productores según su capital y estrategia de simulación\",\n",
    "    x=\"Estrategia\",\n",
    "    y=\"Cantidad\",\n",
    "    color=\"Capital\",\n",
    "    color_discrete_sequence=[\"tomato\", \"grey\"],\n",
    ")\n",
    "fig.show()"
   ]
  },
  {
   "cell_type": "markdown",
   "metadata": {},
   "source": [
    "---\n",
    "## Trabajos futuros"
   ]
  },
  {
   "cell_type": "markdown",
   "metadata": {},
   "source": [
    "#### Stock\n",
    "* Los Productores actualmente poseen un atributo *stock* que decrementamos con las ventas pero que no estamos incrementando de ningún modo. Dado que el modelo permite que un Productor se endeude y siga vendiendo aún teniendo capital negativo (a menos que se active el *flag* de *\"bancarrota\"*), podría ser interesante que el Productor decida en que momentos permitir pérdidas o no, cuando invertir capital para recuperar stock, etc.\n",
    "\n",
    "#### Topología\n",
    "* Actualmente estamos usando una grilla única para ambos tipos de agentes, lo que nos llevó a utilizar el vecindario de Moore Extendido y tomar varias decisiones que no teníamos originalmente (Consumidores que quedan aislados sin poder acceder a Productor alguno, Productores que poseen distintas cantidades de Consumidores, etc). Esto se podría homogeneizar con una topología distinta, un modelo de doble grilla, una para cada tipo de agente, y que los mismos puedan interactuar con los 8 de enfrente (Moore clásico).\n",
    "\n",
    "![Grilla doble](../img/grilla_doble.png)\n",
    "\n",
    "#### Colusion\n",
    "* Para romper la tendencia que el precio encuentre el equilibrio en el valor del costo marginal, se podría implementar algún tipo de colusión entre algunos agentes (por ejemplo, que productores cercanos puedan comunicarse, y así coordinar un precio de venta superior al costo marginal)."
   ]
  }
 ],
 "metadata": {
  "kernelspec": {
   "display_name": "Python 3 (ipykernel)",
   "language": "python",
   "name": "python3"
  },
  "language_info": {
   "codemirror_mode": {
    "name": "ipython",
    "version": 3
   },
   "file_extension": ".py",
   "mimetype": "text/x-python",
   "name": "python",
   "nbconvert_exporter": "python",
   "pygments_lexer": "ipython3",
   "version": "3.10.12"
  }
 },
 "nbformat": 4,
 "nbformat_minor": 4
}
